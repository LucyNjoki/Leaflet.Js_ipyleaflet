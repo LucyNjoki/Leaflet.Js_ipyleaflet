{
 "cells": [
  {
   "cell_type": "code",
   "execution_count": 1,
   "metadata": {},
   "outputs": [
    {
     "data": {
      "text/plain": [
       "['Requirement already satisfied: ipyleaflet in c:\\\\users\\\\me\\\\anaconda3\\\\lib\\\\site-packages (0.9.1)',\n",
       " 'Requirement already satisfied: ipywidgets<8,>=7.0.0 in c:\\\\users\\\\me\\\\anaconda3\\\\lib\\\\site-packages (from ipyleaflet) (7.4.2)',\n",
       " 'Requirement already satisfied: traittypes<3,>=0.2.1 in c:\\\\users\\\\me\\\\anaconda3\\\\lib\\\\site-packages (from ipyleaflet) (0.2.1)',\n",
       " 'Requirement already satisfied: xarray<0.10.8,>=0.10 in c:\\\\users\\\\me\\\\anaconda3\\\\lib\\\\site-packages (from ipyleaflet) (0.10.7)',\n",
       " 'Requirement already satisfied: nbformat>=4.2.0 in c:\\\\users\\\\me\\\\anaconda3\\\\lib\\\\site-packages (from ipywidgets<8,>=7.0.0->ipyleaflet) (4.4.0)',\n",
       " 'Requirement already satisfied: widgetsnbextension~=3.4.0 in c:\\\\users\\\\me\\\\anaconda3\\\\lib\\\\site-packages (from ipywidgets<8,>=7.0.0->ipyleaflet) (3.4.2)',\n",
       " 'Requirement already satisfied: ipython>=4.0.0; python_version >= \"3.3\" in c:\\\\users\\\\me\\\\anaconda3\\\\lib\\\\site-packages (from ipywidgets<8,>=7.0.0->ipyleaflet) (7.1.1)',\n",
       " 'Requirement already satisfied: ipykernel>=4.5.1 in c:\\\\users\\\\me\\\\anaconda3\\\\lib\\\\site-packages (from ipywidgets<8,>=7.0.0->ipyleaflet) (5.1.0)',\n",
       " 'Requirement already satisfied: traitlets>=4.3.1 in c:\\\\users\\\\me\\\\anaconda3\\\\lib\\\\site-packages (from ipywidgets<8,>=7.0.0->ipyleaflet) (4.3.2)',\n",
       " 'Requirement already satisfied: numpy>=1.11 in c:\\\\users\\\\me\\\\anaconda3\\\\lib\\\\site-packages (from xarray<0.10.8,>=0.10->ipyleaflet) (1.15.3)',\n",
       " 'Requirement already satisfied: pandas>=0.18.0 in c:\\\\users\\\\me\\\\anaconda3\\\\lib\\\\site-packages (from xarray<0.10.8,>=0.10->ipyleaflet) (0.23.4)',\n",
       " 'Requirement already satisfied: ipython-genutils in c:\\\\users\\\\me\\\\anaconda3\\\\lib\\\\site-packages (from nbformat>=4.2.0->ipywidgets<8,>=7.0.0->ipyleaflet) (0.2.0)',\n",
       " 'Requirement already satisfied: jupyter-core in c:\\\\users\\\\me\\\\anaconda3\\\\lib\\\\site-packages (from nbformat>=4.2.0->ipywidgets<8,>=7.0.0->ipyleaflet) (4.4.0)',\n",
       " 'Requirement already satisfied: jsonschema!=2.5.0,>=2.4 in c:\\\\users\\\\me\\\\anaconda3\\\\lib\\\\site-packages (from nbformat>=4.2.0->ipywidgets<8,>=7.0.0->ipyleaflet) (2.6.0)',\n",
       " 'Requirement already satisfied: notebook>=4.4.1 in c:\\\\users\\\\me\\\\anaconda3\\\\lib\\\\site-packages (from widgetsnbextension~=3.4.0->ipywidgets<8,>=7.0.0->ipyleaflet) (5.7.0)',\n",
       " 'Requirement already satisfied: colorama; sys_platform == \"win32\" in c:\\\\users\\\\me\\\\anaconda3\\\\lib\\\\site-packages (from ipython>=4.0.0; python_version >= \"3.3\"->ipywidgets<8,>=7.0.0->ipyleaflet) (0.4.0)',\n",
       " 'Requirement already satisfied: pygments in c:\\\\users\\\\me\\\\anaconda3\\\\lib\\\\site-packages (from ipython>=4.0.0; python_version >= \"3.3\"->ipywidgets<8,>=7.0.0->ipyleaflet) (2.2.0)',\n",
       " 'Requirement already satisfied: pickleshare in c:\\\\users\\\\me\\\\anaconda3\\\\lib\\\\site-packages (from ipython>=4.0.0; python_version >= \"3.3\"->ipywidgets<8,>=7.0.0->ipyleaflet) (0.7.5)',\n",
       " 'Requirement already satisfied: backcall in c:\\\\users\\\\me\\\\anaconda3\\\\lib\\\\site-packages (from ipython>=4.0.0; python_version >= \"3.3\"->ipywidgets<8,>=7.0.0->ipyleaflet) (0.1.0)',\n",
       " 'Requirement already satisfied: jedi>=0.10 in c:\\\\users\\\\me\\\\anaconda3\\\\lib\\\\site-packages (from ipython>=4.0.0; python_version >= \"3.3\"->ipywidgets<8,>=7.0.0->ipyleaflet) (0.13.1)',\n",
       " 'Requirement already satisfied: setuptools>=18.5 in c:\\\\users\\\\me\\\\anaconda3\\\\lib\\\\site-packages (from ipython>=4.0.0; python_version >= \"3.3\"->ipywidgets<8,>=7.0.0->ipyleaflet) (40.4.3)',\n",
       " 'Requirement already satisfied: decorator in c:\\\\users\\\\me\\\\anaconda3\\\\lib\\\\site-packages (from ipython>=4.0.0; python_version >= \"3.3\"->ipywidgets<8,>=7.0.0->ipyleaflet) (4.3.0)',\n",
       " 'Requirement already satisfied: prompt-toolkit<2.1.0,>=2.0.0 in c:\\\\users\\\\me\\\\anaconda3\\\\lib\\\\site-packages (from ipython>=4.0.0; python_version >= \"3.3\"->ipywidgets<8,>=7.0.0->ipyleaflet) (2.0.7)',\n",
       " 'Requirement already satisfied: jupyter-client in c:\\\\users\\\\me\\\\anaconda3\\\\lib\\\\site-packages (from ipykernel>=4.5.1->ipywidgets<8,>=7.0.0->ipyleaflet) (5.2.3)',\n",
       " 'Requirement already satisfied: tornado>=4.2 in c:\\\\users\\\\me\\\\anaconda3\\\\lib\\\\site-packages (from ipykernel>=4.5.1->ipywidgets<8,>=7.0.0->ipyleaflet) (5.1.1)',\n",
       " 'Requirement already satisfied: six in c:\\\\users\\\\me\\\\anaconda3\\\\lib\\\\site-packages (from traitlets>=4.3.1->ipywidgets<8,>=7.0.0->ipyleaflet) (1.11.0)',\n",
       " 'Requirement already satisfied: python-dateutil>=2.5.0 in c:\\\\users\\\\me\\\\anaconda3\\\\lib\\\\site-packages (from pandas>=0.18.0->xarray<0.10.8,>=0.10->ipyleaflet) (2.7.3)',\n",
       " 'Requirement already satisfied: pytz>=2011k in c:\\\\users\\\\me\\\\anaconda3\\\\lib\\\\site-packages (from pandas>=0.18.0->xarray<0.10.8,>=0.10->ipyleaflet) (2018.5)',\n",
       " 'Requirement already satisfied: pyzmq>=17 in c:\\\\users\\\\me\\\\anaconda3\\\\lib\\\\site-packages (from notebook>=4.4.1->widgetsnbextension~=3.4.0->ipywidgets<8,>=7.0.0->ipyleaflet) (17.1.2)',\n",
       " 'Requirement already satisfied: jinja2 in c:\\\\users\\\\me\\\\anaconda3\\\\lib\\\\site-packages (from notebook>=4.4.1->widgetsnbextension~=3.4.0->ipywidgets<8,>=7.0.0->ipyleaflet) (2.10)',\n",
       " 'Requirement already satisfied: Send2Trash in c:\\\\users\\\\me\\\\anaconda3\\\\lib\\\\site-packages (from notebook>=4.4.1->widgetsnbextension~=3.4.0->ipywidgets<8,>=7.0.0->ipyleaflet) (1.5.0)',\n",
       " 'Requirement already satisfied: terminado>=0.8.1 in c:\\\\users\\\\me\\\\anaconda3\\\\lib\\\\site-packages (from notebook>=4.4.1->widgetsnbextension~=3.4.0->ipywidgets<8,>=7.0.0->ipyleaflet) (0.8.1)',\n",
       " 'Requirement already satisfied: prometheus-client in c:\\\\users\\\\me\\\\anaconda3\\\\lib\\\\site-packages (from notebook>=4.4.1->widgetsnbextension~=3.4.0->ipywidgets<8,>=7.0.0->ipyleaflet) (0.4.2)',\n",
       " 'Requirement already satisfied: nbconvert in c:\\\\users\\\\me\\\\anaconda3\\\\lib\\\\site-packages (from notebook>=4.4.1->widgetsnbextension~=3.4.0->ipywidgets<8,>=7.0.0->ipyleaflet) (5.4.0)',\n",
       " 'No metadata found in c:\\\\users\\\\me\\\\anaconda3\\\\lib\\\\site-packages',\n",
       " 'Requirement already satisfied: parso>=0.3.0 in c:\\\\users\\\\me\\\\anaconda3\\\\lib\\\\site-packages (from jedi>=0.10->ipython>=4.0.0; python_version >= \"3.3\"->ipywidgets<8,>=7.0.0->ipyleaflet) (0.3.1)',\n",
       " 'Requirement already satisfied: wcwidth in c:\\\\users\\\\me\\\\anaconda3\\\\lib\\\\site-packages (from prompt-toolkit<2.1.0,>=2.0.0->ipython>=4.0.0; python_version >= \"3.3\"->ipywidgets<8,>=7.0.0->ipyleaflet) (0.1.7)',\n",
       " 'Requirement already satisfied: MarkupSafe>=0.23 in c:\\\\users\\\\me\\\\anaconda3\\\\lib\\\\site-packages (from jinja2->notebook>=4.4.1->widgetsnbextension~=3.4.0->ipywidgets<8,>=7.0.0->ipyleaflet) (1.0)']"
      ]
     },
     "execution_count": 1,
     "metadata": {},
     "output_type": "execute_result"
    }
   ],
   "source": [
    "%%!\n",
    "pip install ipyleaflet"
   ]
  },
  {
   "cell_type": "code",
   "execution_count": 2,
   "metadata": {},
   "outputs": [
    {
     "data": {
      "application/vnd.jupyter.widget-view+json": {
       "model_id": "552fa39c30c24b68b5fce6a5e0c7a615",
       "version_major": 2,
       "version_minor": 0
      },
      "text/plain": [
       "Map(basemap={'url': 'https://{s}.tile.openstreetmap.org/{z}/{x}/{y}.png', 'max_zoom': 19, 'attribution': 'Map …"
      ]
     },
     "metadata": {},
     "output_type": "display_data"
    }
   ],
   "source": [
    "#Kenya tilelayer\n",
    "from ipyleaflet import Map,TileLayer\n",
    "tile_layer=TileLayer(url='https://openmaptiles.com/downloads/tileset/osm/africa/kenya/')\n",
    "m = Map(center=(0.1768696,37.9083264), zoom=10)\n",
    "m.add_layer(tile_layer)\n",
    "m"
   ]
  },
  {
   "cell_type": "code",
   "execution_count": 3,
   "metadata": {},
   "outputs": [
    {
     "data": {
      "application/vnd.jupyter.widget-view+json": {
       "model_id": "552fa39c30c24b68b5fce6a5e0c7a615",
       "version_major": 2,
       "version_minor": 0
      },
      "text/plain": [
       "Map(basemap={'url': 'https://{s}.tile.openstreetmap.org/{z}/{x}/{y}.png', 'max_zoom': 19, 'attribution': 'Map …"
      ]
     },
     "metadata": {},
     "output_type": "display_data"
    }
   ],
   "source": [
    "#add marker to kisumu\n",
    "from ipyleaflet import Map,TileLayer, Marker\n",
    "tile_layer=TileLayer(url='https://openmaptiles.com/downloads/tileset/osm/africa/kenya/')\n",
    "center = (-0.0999996, 34.749997)\n",
    "myMarker=Marker(location=center, draggable=False)\n",
    "m.add_layer(myMarker)\n",
    "m"
   ]
  },
  {
   "cell_type": "code",
   "execution_count": 4,
   "metadata": {},
   "outputs": [
    {
     "data": {
      "application/vnd.jupyter.widget-view+json": {
       "model_id": "fd9d664d3e61489d9ff61479d5a587fc",
       "version_major": 2,
       "version_minor": 0
      },
      "text/plain": [
       "Map(basemap={'url': 'https://{s}.tile.openstreetmap.org/{z}/{x}/{y}.png', 'max_zoom': 19, 'attribution': 'Map …"
      ]
     },
     "metadata": {},
     "output_type": "display_data"
    }
   ],
   "source": [
    "#Marker cluster for kisii, Nairobi and Meru \n",
    "from ipyleaflet import Map, Marker, MarkerCluster\n",
    "\n",
    "m = Map(center=(0.1768696,37.9083264), zoom=5)\n",
    "\n",
    "meru = Marker(location=(0.0499998,37.6499974))\n",
    "nairobi = Marker(location=(-1.2833322,36.8166634))\n",
    "kisii = Marker(location=(-0.6833306,34.7666636))\n",
    "\n",
    "marker_cluster = MarkerCluster(\n",
    "    markers=(meru, nairobi, kisii)\n",
    ")\n",
    "\n",
    "m.add_layer(marker_cluster);\n",
    "\n",
    "m"
   ]
  },
  {
   "cell_type": "code",
   "execution_count": 5,
   "metadata": {},
   "outputs": [
    {
     "data": {
      "application/vnd.jupyter.widget-view+json": {
       "model_id": "65d1ecb3378247008572ba7bbb88f556",
       "version_major": 2,
       "version_minor": 0
      },
      "text/plain": [
       "Map(basemap={'url': 'https://{s}.tile.openstreetmap.org/{z}/{x}/{y}.png', 'max_zoom': 19, 'attribution': 'Map …"
      ]
     },
     "metadata": {},
     "output_type": "display_data"
    }
   ],
   "source": [
    "#polygon with Kisii,Nairobi and Meru coordinates\n",
    "from ipyleaflet import Map, Polygon\n",
    "\n",
    "polygon = Polygon(\n",
    "    locations=[(0.0499998,37.6499974),(-1.2833322,36.8166634),(-0.6833306,34.7666636)],\n",
    "    color=\"green\",\n",
    "    fill_color=\"blue\"\n",
    ")\n",
    "\n",
    "m = Map(center=(0.1768696,37.9083264), zoom=6)\n",
    "m.add_layer(polygon);\n",
    "m"
   ]
  },
  {
   "cell_type": "code",
   "execution_count": 6,
   "metadata": {},
   "outputs": [
    {
     "data": {
      "application/vnd.jupyter.widget-view+json": {
       "model_id": "eebdeea33774497bb670d4737944d52a",
       "version_major": 2,
       "version_minor": 0
      },
      "text/plain": [
       "Map(basemap={'url': 'https://{s}.tile.openstreetmap.org/{z}/{x}/{y}.png', 'max_zoom': 19, 'attribution': 'Map …"
      ]
     },
     "metadata": {},
     "output_type": "display_data"
    }
   ],
   "source": [
    "#rectangle polygon(upper-left corner and lower-right corner coordinates) kisumu and nairobi\n",
    "from ipyleaflet import Map,TileLayer, Rectangle\n",
    "\n",
    "Kenyalayer = TileLayer(url='https://openmaptiles.com/downloads/tileset/osm/africa/kenya/')\n",
    "\n",
    "m = Map(center=((0.1768696,37.9083264)), zoom=6)\n",
    "rectangle = Rectangle(bounds=((-0.0999996, 34.749997),(-1.2833322,36.8166634)), color = \"red\",weight = 8,fillColor=\"blue\") \n",
    "m.add_layer(Kenyalayer)\n",
    "m.add_layer(rectangle)\n",
    "m"
   ]
  },
  {
   "cell_type": "code",
   "execution_count": 7,
   "metadata": {},
   "outputs": [
    {
     "data": {
      "application/vnd.jupyter.widget-view+json": {
       "model_id": "7087735a7f78466a8e55dce2df3b9e12",
       "version_major": 2,
       "version_minor": 0
      },
      "text/plain": [
       "Map(basemap={'url': 'https://{s}.tile.openstreetmap.org/{z}/{x}/{y}.png', 'max_zoom': 19, 'attribution': 'Map …"
      ]
     },
     "metadata": {},
     "output_type": "display_data"
    }
   ],
   "source": [
    "#circle polygon around nairobi with a 50000 radius\n",
    "from ipyleaflet import Map,TileLayer, Circle\n",
    "\n",
    "Kenyalayer = TileLayer(url='https://openmaptiles.com/downloads/tileset/osm/africa/kenya/')\n",
    "m = Map(center=((0.1768696,37.9083264)), zoom=6)\n",
    "circle = Circle(location = (-1.2833322,36.8166634),radius = 50000,color = \"green\",fill_color = \"green\")\n",
    "m.add_layer(Kenyalayer)\n",
    "m.add_layer(circle)\n",
    "m"
   ]
  },
  {
   "cell_type": "code",
   "execution_count": 8,
   "metadata": {},
   "outputs": [
    {
     "ename": "ImportError",
     "evalue": "cannot import name 'multiPolyline' from 'ipyleaflet' (C:\\Users\\ME\\Anaconda3\\lib\\site-packages\\ipyleaflet\\__init__.py)",
     "output_type": "error",
     "traceback": [
      "\u001b[1;31m---------------------------------------------------------------------------\u001b[0m",
      "\u001b[1;31mImportError\u001b[0m                               Traceback (most recent call last)",
      "\u001b[1;32m<ipython-input-8-a41f685e8ba3>\u001b[0m in \u001b[0;36m<module>\u001b[1;34m\u001b[0m\n\u001b[0;32m      1\u001b[0m \u001b[1;31m#multipolylines not available in the package\u001b[0m\u001b[1;33m\u001b[0m\u001b[1;33m\u001b[0m\u001b[1;33m\u001b[0m\u001b[0m\n\u001b[1;32m----> 2\u001b[1;33m \u001b[1;32mfrom\u001b[0m \u001b[0mipyleaflet\u001b[0m \u001b[1;32mimport\u001b[0m \u001b[0mMap\u001b[0m\u001b[1;33m,\u001b[0m\u001b[0mTileLayer\u001b[0m\u001b[1;33m,\u001b[0m\u001b[0mmultiPolyline\u001b[0m\u001b[1;33m\u001b[0m\u001b[1;33m\u001b[0m\u001b[0m\n\u001b[0m\u001b[0;32m      3\u001b[0m \u001b[1;33m\u001b[0m\u001b[0m\n\u001b[0;32m      4\u001b[0m \u001b[0mKenyalayer\u001b[0m \u001b[1;33m=\u001b[0m \u001b[0mTileLayer\u001b[0m\u001b[1;33m(\u001b[0m\u001b[0murl\u001b[0m\u001b[1;33m=\u001b[0m\u001b[1;34m'https://openmaptiles.com/downloads/tileset/osm/africa/kenya/'\u001b[0m\u001b[1;33m)\u001b[0m\u001b[1;33m\u001b[0m\u001b[1;33m\u001b[0m\u001b[0m\n\u001b[0;32m      5\u001b[0m \u001b[0mm\u001b[0m \u001b[1;33m=\u001b[0m \u001b[0mMap\u001b[0m\u001b[1;33m(\u001b[0m\u001b[0mcenter\u001b[0m\u001b[1;33m=\u001b[0m\u001b[1;33m(\u001b[0m\u001b[1;33m(\u001b[0m\u001b[1;36m0.1768696\u001b[0m\u001b[1;33m,\u001b[0m\u001b[1;36m37.9083264\u001b[0m\u001b[1;33m)\u001b[0m\u001b[1;33m)\u001b[0m\u001b[1;33m,\u001b[0m \u001b[0mzoom\u001b[0m\u001b[1;33m=\u001b[0m\u001b[1;36m6\u001b[0m\u001b[1;33m)\u001b[0m\u001b[1;33m\u001b[0m\u001b[1;33m\u001b[0m\u001b[0m\n",
      "\u001b[1;31mImportError\u001b[0m: cannot import name 'multiPolyline' from 'ipyleaflet' (C:\\Users\\ME\\Anaconda3\\lib\\site-packages\\ipyleaflet\\__init__.py)"
     ]
    }
   ],
   "source": [
    "#multipolylines not available in the package\n",
    "from ipyleaflet import Map,TileLayer,multiPolyline\n",
    "\n",
    "Kenyalayer = TileLayer(url='https://openmaptiles.com/downloads/tileset/osm/africa/kenya/')\n",
    "m = Map(center=((0.1768696,37.9083264)), zoom=6)\n",
    "multipolyline=multiPolyline(location = ([0.0499998,37.6499974],[-1.2833322,36.8166634],[-0.6833306,34.7666636],[-0.0999996, 34.749997]),weight = 8,color = \"blue\")\n",
    "m.add_layer(Kenyalayer)\n",
    "m.add_layer(multipolyline)\n",
    "m"
   ]
  },
  {
   "cell_type": "code",
   "execution_count": null,
   "metadata": {},
   "outputs": [],
   "source": []
  }
 ],
 "metadata": {
  "kernelspec": {
   "display_name": "Python 3",
   "language": "python",
   "name": "python3"
  },
  "language_info": {
   "codemirror_mode": {
    "name": "ipython",
    "version": 3
   },
   "file_extension": ".py",
   "mimetype": "text/x-python",
   "name": "python",
   "nbconvert_exporter": "python",
   "pygments_lexer": "ipython3",
   "version": "3.7.1"
  }
 },
 "nbformat": 4,
 "nbformat_minor": 2
}
